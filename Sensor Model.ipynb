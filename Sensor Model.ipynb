{
 "cells": [
  {
   "cell_type": "markdown",
   "id": "bf2b7408",
   "metadata": {},
   "source": [
    "# Sensor Model"
   ]
  },
  {
   "cell_type": "markdown",
   "id": "e01c07ac",
   "metadata": {},
   "source": [
    "## Load Dependencies"
   ]
  },
  {
   "cell_type": "code",
   "execution_count": 280,
   "id": "2884d147",
   "metadata": {},
   "outputs": [
    {
     "name": "stdout",
     "output_type": "stream",
     "text": [
      "The autoreload extension is already loaded. To reload it, use:\n",
      "  %reload_ext autoreload\n"
     ]
    }
   ],
   "source": [
    "%load_ext autoreload\n",
    "%autoreload 2\n",
    "import numpy as np\n",
    "import matplotlib.pyplot as plt\n",
    "import matplotlib.cm as cm\n",
    "import matplotlib.animation as animation\n",
    "import IPython.display as ipd\n",
    "from environment import *"
   ]
  },
  {
   "cell_type": "markdown",
   "id": "0494c04a",
   "metadata": {},
   "source": [
    "## Load Maze 1"
   ]
  },
  {
   "cell_type": "code",
   "execution_count": 284,
   "id": "7991bf25",
   "metadata": {},
   "outputs": [
    {
     "data": {
      "image/png": "[encoded data removed]",
      "text/plain": [
       "<Figure size 432x288 with 1 Axes>"
      ]
     },
     "metadata": {
      "needs_background": "light"
     },
     "output_type": "display_data"
    }
   ],
   "source": [
    "## Step 1: Create the world and devise robot motion\n",
    "# Load in a particular environment\n",
    "env = Environment(\"Maze1.png\")\n",
    "# Devise a path through that environment that passes through 3 locations\n",
    "X = env.simulate_trajectory([[0, 15], [27, 40], [26, 12]])\n",
    "# Plot the environment with the path superimposed\n",
    "plt.figure()\n",
    "env.plot()\n",
    "plt.plot(X[:, 0], X[:, 1])\n",
    " \n",
    "## Step 2: Simulate scans at each position\n",
    "# How many angles to sample in the range scanner\n",
    "res = 50\n",
    "# The noise of the scanner (start with low noise to make the problem easier)\n",
    "alpha = 0.1\n",
    "# Make this repeatably pseudorandom by seeding so that the numbers you get match up with mine\n",
    "np.random.seed(0) \n",
    "# Create a list of scans.  Each scan holds a list of \"res\" laser ranges across all angles\n",
    "observed_scans = []\n",
    "for i in range(X.shape[0]):\n",
    "    observed_scans.append(env.get_range_scan(X[i, :], res, alpha))\n",
    "# NOTE: observed_scans[i][j] would be angle j at time i"
   ]
  },
  {
   "cell_type": "markdown",
   "id": "b48ed9f8",
   "metadata": {},
   "source": [
    "## Load Maze 2"
   ]
  },
  {
   "cell_type": "code",
   "execution_count": 281,
   "id": "73a5aa4d",
   "metadata": {},
   "outputs": [
    {
     "data": {
      "image/png": "[encoded data removed]",
      "text/plain": [
       "<Figure size 432x288 with 1 Axes>"
      ]
     },
     "metadata": {
      "needs_background": "light"
     },
     "output_type": "display_data"
    }
   ],
   "source": [
    "env = Environment(\"Maze2.png\")\n",
    "res = 50\n",
    "X = env.simulate_trajectory([[10, 45], [120, 45], [126, 100]])\n",
    "plt.figure()\n",
    "env.plot()\n",
    "plt.plot(X[:, 0], X[:, 1])\n",
    "\n",
    "alpha = 4\n",
    "np.random.seed(0)\n",
    "observed_scans = []\n",
    "for i in range(X.shape[0]):\n",
    "    observed_scans.append(env.get_range_scan(X[i, :], res, alpha))"
   ]
  },
  {
   "cell_type": "markdown",
   "id": "94dd3767",
   "metadata": {},
   "source": [
    "## Load Maze 3"
   ]
  },
  {
   "cell_type": "code",
   "execution_count": 294,
   "id": "1c175236",
   "metadata": {},
   "outputs": [
    {
     "data": {
      "image/png": "[encoded data removed]",
      "text/plain": [
       "<Figure size 432x288 with 1 Axes>"
      ]
     },
     "metadata": {
      "needs_background": "light"
     },
     "output_type": "display_data"
    }
   ],
   "source": [
    "env = Environment(\"Maze3.png\")\n",
    "res = 50\n",
    "X = env.simulate_trajectory([[23,23], [37, 20], [23, 11], [42,15], [48,17]])\n",
    "plt.figure()\n",
    "env.plot()\n",
    "plt.plot(X[:, 0], X[:, 1])\n",
    "\n",
    "alpha = 4\n",
    "np.random.seed(0)\n",
    "observed_scans = []\n",
    "for i in range(X.shape[0]):\n",
    "    observed_scans.append(env.get_range_scan(X[i, :], res, alpha))"
   ]
  },
  {
   "cell_type": "markdown",
   "id": "5ad582eb",
   "metadata": {},
   "source": [
    "## Load Perfect State Scans"
   ]
  },
  {
   "cell_type": "code",
   "execution_count": 285,
   "id": "29791939",
   "metadata": {},
   "outputs": [],
   "source": [
    "state_scans = env.get_state_scans(res)"
   ]
  },
  {
   "cell_type": "markdown",
   "id": "16c19cf8",
   "metadata": {},
   "source": [
    "## Get Measurement Probabilities"
   ]
  },
  {
   "cell_type": "code",
   "execution_count": 291,
   "id": "ea268708",
   "metadata": {},
   "outputs": [],
   "source": [
    "def get_measurement_prob(exp, obs, alpha, gamma=0.1):\n",
    "    \"\"\"\n",
    "    exp: ndarray(N)\n",
    "        Ground truth scan\n",
    "    obs: ndarray(N)\n",
    "        Measured scan\n",
    "    alpha: float\n",
    "        Disparity\n",
    "    \"\"\"\n",
    "    prod = alpha*exp + gamma\n",
    "    res = -np.sum(np.log(np.sqrt(2*np.pi)*prod)) \n",
    "    res -= np.sum((exp-obs)**2 / (2*(prod**2)))\n",
    "    return np.exp(res)"
   ]
  },
  {
   "cell_type": "markdown",
   "id": "d854df6d",
   "metadata": {},
   "source": [
    "## Test Measurement Probabilities"
   ]
  },
  {
   "cell_type": "code",
   "execution_count": 293,
   "id": "b6284f42",
   "metadata": {},
   "outputs": [
    {
     "data": {
      "text/plain": [
       "<matplotlib.legend.Legend at 0x7fb09bc197f0>"
      ]
     },
     "execution_count": 293,
     "metadata": {},
     "output_type": "execute_result"
    },
    {
     "data": {
      "image/png": "[encoded data removed]",
      "text/plain": [
       "<Figure size 432x288 with 1 Axes>"
      ]
     },
     "metadata": {
      "needs_background": "light"
     },
     "output_type": "display_data"
    }
   ],
   "source": [
    "K = len(state_scans)\n",
    "# Compute the measurement probability of the scan at each location\n",
    "meas_probs = np.zeros(K)\n",
    "idx = 54\n",
    "for i in range(K):\n",
    "    meas_probs[i] = get_measurement_prob(observed_scans[idx], state_scans[i], alpha)\n",
    "# Plot the measurement probabilities on the map\n",
    "env.plot_probabilities(meas_probs, p=1e-2, show_max=False)\n",
    "# Plot the ground truth location from the trajectory as an green dot\n",
    "plt.scatter([X[idx, 0]], X[idx, 1], c='C2') \n",
    "plt.legend([\"Ground Truth Location\"])"
   ]
  }
 ],
 "metadata": {
  "kernelspec": {
   "display_name": "Python 3",
   "language": "python",
   "name": "python3"
  },
  "language_info": {
   "codemirror_mode": {
    "name": "ipython",
    "version": 3
   },
   "file_extension": ".py",
   "mimetype": "text/x-python",
   "name": "python",
   "nbconvert_exporter": "python",
   "pygments_lexer": "ipython3",
   "version": "3.8.8"
  }
 },
 "nbformat": 4,
 "nbformat_minor": 5
}
