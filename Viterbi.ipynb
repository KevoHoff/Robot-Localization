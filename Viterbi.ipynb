{
 "cells": [
  {
   "cell_type": "markdown",
   "id": "72fb279d",
   "metadata": {},
   "source": [
    "# Viterbi Algorithm"
   ]
  },
  {
   "cell_type": "markdown",
   "id": "be38c2f4",
   "metadata": {},
   "source": [
    "## Load Dependences"
   ]
  },
  {
   "cell_type": "code",
   "execution_count": 1,
   "id": "38c24b4f",
   "metadata": {},
   "outputs": [],
   "source": [
    "%load_ext autoreload\n",
    "%autoreload 2\n",
    "import numpy as np\n",
    "import matplotlib.pyplot as plt\n",
    "import matplotlib.cm as cm\n",
    "import matplotlib.animation as animation\n",
    "import IPython.display as ipd\n",
    "from environment import *"
   ]
  },
  {
   "cell_type": "markdown",
   "id": "4e1fcee0",
   "metadata": {},
   "source": [
    "## Load Maze 1"
   ]
  },
  {
   "cell_type": "code",
   "execution_count": 2,
   "id": "34f7d497",
   "metadata": {},
   "outputs": [
    {
     "data": {
      "image/png": "[encoded data removed]",
      "text/plain": [
       "<Figure size 432x288 with 1 Axes>"
      ]
     },
     "metadata": {
      "needs_background": "light"
     },
     "output_type": "display_data"
    }
   ],
   "source": [
    "## Step 1: Create the world and devise robot motion\n",
    "# Load in a particular environment\n",
    "env = Environment(\"Maze1.png\")\n",
    "# Devise a path through that environment that passes through 3 locations\n",
    "X = env.simulate_trajectory([[0, 15], [27, 40], [26, 12]])\n",
    "# Plot the environment with the path superimposed\n",
    "plt.figure()\n",
    "env.plot()\n",
    "plt.plot(X[:, 0], X[:, 1])\n",
    " \n",
    "## Step 2: Simulate scans at each position\n",
    "# How many angles to sample in the range scanner\n",
    "res = 50\n",
    "# The noise of the scanner (start with low noise to make the problem easier)\n",
    "alpha = 4\n",
    "# Make this repeatably pseudorandom by seeding so that the numbers you get match up with mine\n",
    "np.random.seed(0) "
   ]
  },
  {
   "cell_type": "markdown",
   "id": "cac81ecc",
   "metadata": {},
   "source": [
    "## Load Maze 2"
   ]
  },
  {
   "cell_type": "code",
   "execution_count": 87,
   "id": "47d4703c",
   "metadata": {},
   "outputs": [
    {
     "data": {
      "image/png": "[encoded data removed]",
      "text/plain": [
       "<Figure size 432x288 with 1 Axes>"
      ]
     },
     "metadata": {
      "needs_background": "light"
     },
     "output_type": "display_data"
    }
   ],
   "source": [
    "env = Environment(\"Maze2.png\")\n",
    "res = 50\n",
    "X = env.simulate_trajectory([[10, 45], [120, 45], [126, 100]])\n",
    "plt.figure()\n",
    "env.plot()\n",
    "plt.plot(X[:, 0], X[:, 1])\n",
    "\n",
    "## Step 2: Simulate scans at each position\n",
    "# How many angles to sample in the range scanner\n",
    "res = 50\n",
    "# The noise of the scanner (start with low noise to make the problem easier)\n",
    "alpha = 4\n",
    "# Make this repeatably pseudorandom by seeding so that the numbers you get match up with mine\n",
    "np.random.seed(0) "
   ]
  },
  {
   "cell_type": "markdown",
   "id": "6b9ae802",
   "metadata": {},
   "source": [
    "## Load Maze 3"
   ]
  },
  {
   "cell_type": "code",
   "execution_count": 3,
   "id": "c5378c27",
   "metadata": {},
   "outputs": [
    {
     "data": {
      "image/png": "[encoded data removed]",
      "text/plain": [
       "<Figure size 432x288 with 1 Axes>"
      ]
     },
     "metadata": {
      "needs_background": "light"
     },
     "output_type": "display_data"
    }
   ],
   "source": [
    "env = Environment(\"Maze3.png\")\n",
    "res = 50\n",
    "X = env.simulate_trajectory([[23,23], [37, 20], [23, 11], [42,15], [48,17]])\n",
    "plt.figure()\n",
    "env.plot()\n",
    "plt.plot(X[:, 0], X[:, 1])\n",
    "\n",
    "alpha = 4\n",
    "np.random.seed(0)\n",
    "\n",
    "## Step 2: Simulate scans at each position\n",
    "# How many angles to sample in the range scanner\n",
    "res = 50\n",
    "# The noise of the scanner (start with low noise to make the problem easier)\n",
    "alpha = 4\n",
    "# Make this repeatably pseudorandom by seeding so that the numbers you get match up with mine\n",
    "np.random.seed(0) "
   ]
  },
  {
   "cell_type": "markdown",
   "id": "534190b6",
   "metadata": {},
   "source": [
    "## Get Log Measurement Probability"
   ]
  },
  {
   "cell_type": "code",
   "execution_count": 10,
   "id": "f9e7636b",
   "metadata": {},
   "outputs": [],
   "source": [
    "def get_log_prob(exp, obs, alpha, gamma=0.1):\n",
    "    \"\"\"\n",
    "    exp: ndarray(N)\n",
    "        Ground truth scan\n",
    "    obs: ndarray(N)\n",
    "        Measured scan\n",
    "    alpha: float\n",
    "        Disparity\n",
    "    \"\"\"\n",
    "    prod = alpha*exp + gamma\n",
    "    res = -np.sum(np.log(np.sqrt(2*np.pi)*prod)) \n",
    "    res -= np.sum((exp-obs)**2 / (2*(prod**2)))\n",
    "    return res"
   ]
  },
  {
   "cell_type": "markdown",
   "id": "fc68bdf6",
   "metadata": {},
   "source": [
    "## Load Scans"
   ]
  },
  {
   "cell_type": "code",
   "execution_count": 5,
   "id": "da4aaae7",
   "metadata": {},
   "outputs": [],
   "source": [
    "alpha = 4\n",
    "observed_scans = []\n",
    "for i in range(X.shape[0]):\n",
    "    observed_scans.append(env.get_range_scan(X[i, :], res, alpha))\n",
    "state_scans = env.get_state_scans(res)"
   ]
  },
  {
   "cell_type": "markdown",
   "id": "3b48d06c",
   "metadata": {},
   "source": [
    "## Process Data Using Viterbi Algorithm"
   ]
  },
  {
   "cell_type": "code",
   "execution_count": 11,
   "id": "ea4be050",
   "metadata": {},
   "outputs": [],
   "source": [
    "K = len(state_scans) # Number of states\n",
    "T = X.shape[0] # Number of timesteps\n",
    "alpha = 4\n",
    "\n",
    "# Step 1: Initialize 2D TxK array for log probabilities of states and another for state index pointers\n",
    "L = np.zeros(shape=(T, K), dtype=float)\n",
    "B = np.zeros(shape=(T, K), dtype=float)\n",
    "\n",
    "# Step 2: Populate first rows of B and K since formula describes first term as independent from rest of equation\n",
    "for k in range(K):\n",
    "    L[0, k] = -np.log(K) + get_log_prob(state_scans[k], observed_scans[0], alpha)\n",
    "B[0, :] = -1\n",
    "\n",
    "# Step 3: Update rows representing timestep T based on measurement, transition, and prior probabilities\n",
    "for i in range(1, T):\n",
    "    for j in range(K):\n",
    "\n",
    "        max_j = env.neighbors[j][0]\n",
    "        for l in env.neighbors[j]:\n",
    "            if L[i-1, l] > L[i-1, max_j]:\n",
    "                max_j = l\n",
    "                \n",
    "        L[i, j] = get_log_prob(state_scans[j], observed_scans[i], alpha) + L[i-1, max_j] - np.log(len(env.neighbors[max_j]))\n",
    "        B[i, j] = max_j\n",
    "\n",
    "# Step 4: Backtrace to find optimal path with reg\n",
    "state = int(np.argmax(L[-1,:]))\n",
    "states = list()\n",
    "n = T - 1\n",
    "while n > 0:\n",
    "    states.append(state)\n",
    "    state = int(B[n][state])\n",
    "    n += -1\n",
    "states.reverse()"
   ]
  },
  {
   "cell_type": "markdown",
   "id": "80d7bf8e",
   "metadata": {},
   "source": [
    "## Plot Estimated Path"
   ]
  },
  {
   "cell_type": "code",
   "execution_count": 12,
   "id": "cbaef5ec",
   "metadata": {},
   "outputs": [
    {
     "data": {
      "text/plain": [
       "Text(0.5, 1.0, 'Estimated Trajectory, $\\\\alpha=4.000$')"
      ]
     },
     "execution_count": 12,
     "metadata": {},
     "output_type": "execute_result"
    },
    {
     "data": {
      "image/png": "[encoded data removed]",
      "text/plain": [
       "<Figure size 432x288 with 1 Axes>"
      ]
     },
     "metadata": {
      "needs_background": "light"
     },
     "output_type": "display_data"
    }
   ],
   "source": [
    "states = np.array(states, dtype=int)\n",
    "Y = env.X[states, :]\n",
    "plt.figure()\n",
    "plt.plot(X[:, 0], X[:, 1], 'k', linewidth=4)\n",
    "plt.plot(Y[:, 0], Y[:, 1], 'C1', linestyle='--')\n",
    "plt.legend([\"Ground Truth\", \"Estimated\"])\n",
    "plt.axis(\"equal\")\n",
    "plt.title(\"Estimated Trajectory, $\\\\alpha={:.3f}$\".format(alpha))"
   ]
  }
 ],
 "metadata": {
  "kernelspec": {
   "display_name": "Python 3",
   "language": "python",
   "name": "python3"
  },
  "language_info": {
   "codemirror_mode": {
    "name": "ipython",
    "version": 3
   },
   "file_extension": ".py",
   "mimetype": "text/x-python",
   "name": "python",
   "nbconvert_exporter": "python",
   "pygments_lexer": "ipython3",
   "version": "3.8.8"
  }
 },
 "nbformat": 4,
 "nbformat_minor": 5
}
